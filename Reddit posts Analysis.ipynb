{
 "cells": [
  {
   "cell_type": "markdown",
   "id": "316ee15a",
   "metadata": {},
   "source": [
    "A quick and easy analysis of this dataset to answer the following:\n",
    "\n",
    "1. Who removed the most number of posts from the website?\n",
    "2. A pie chart of who removes the post from the website\n",
    "3. Whose posts were removed most frequently?\n",
    "4. Most Popular posts, by awards received\n",
    "5. Comments distribution d) Conclusion"
   ]
  },
  {
   "cell_type": "code",
   "execution_count": 2,
   "id": "7371bc46",
   "metadata": {},
   "outputs": [],
   "source": [
    "import numpy as np\n",
    "import pandas as pd\n",
    "import seaborn as sns\n",
    "import matplotlib.pyplot as plt\n"
   ]
  },
  {
   "cell_type": "code",
   "execution_count": 10,
   "id": "c5568efc",
   "metadata": {},
   "outputs": [],
   "source": [
    "df= pd.read_csv(\"C:\\kaggle datasets\\Reddit Data.csv\",low_memory=False)"
   ]
  },
  {
   "cell_type": "code",
   "execution_count": 11,
   "id": "10cc3662",
   "metadata": {},
   "outputs": [
    {
     "name": "stdout",
     "output_type": "stream",
     "text": [
      "<class 'pandas.core.frame.DataFrame'>\n",
      "RangeIndex: 190853 entries, 0 to 190852\n",
      "Data columns (total 12 columns):\n",
      " #   Column                 Non-Null Count   Dtype  \n",
      "---  ------                 --------------   -----  \n",
      " 0   id                     190853 non-null  object \n",
      " 1   title                  190852 non-null  object \n",
      " 2   score                  190853 non-null  int64  \n",
      " 3   author                 190853 non-null  object \n",
      " 4   author_flair_text      28845 non-null   object \n",
      " 5   removed_by             20744 non-null   object \n",
      " 6   total_awards_received  65146 non-null   float64\n",
      " 7   awarders               54478 non-null   object \n",
      " 8   created_utc            190853 non-null  int64  \n",
      " 9   full_link              190853 non-null  object \n",
      " 10  num_comments           190853 non-null  int64  \n",
      " 11  over_18                190853 non-null  bool   \n",
      "dtypes: bool(1), float64(1), int64(3), object(7)\n",
      "memory usage: 16.2+ MB\n"
     ]
    }
   ],
   "source": [
    "df.info()"
   ]
  },
  {
   "cell_type": "code",
   "execution_count": 12,
   "id": "f15296a1",
   "metadata": {},
   "outputs": [
    {
     "data": {
      "text/html": [
       "<div>\n",
       "<style scoped>\n",
       "    .dataframe tbody tr th:only-of-type {\n",
       "        vertical-align: middle;\n",
       "    }\n",
       "\n",
       "    .dataframe tbody tr th {\n",
       "        vertical-align: top;\n",
       "    }\n",
       "\n",
       "    .dataframe thead th {\n",
       "        text-align: right;\n",
       "    }\n",
       "</style>\n",
       "<table border=\"1\" class=\"dataframe\">\n",
       "  <thead>\n",
       "    <tr style=\"text-align: right;\">\n",
       "      <th></th>\n",
       "      <th>id</th>\n",
       "      <th>title</th>\n",
       "      <th>score</th>\n",
       "      <th>author</th>\n",
       "      <th>author_flair_text</th>\n",
       "      <th>removed_by</th>\n",
       "      <th>total_awards_received</th>\n",
       "      <th>awarders</th>\n",
       "      <th>created_utc</th>\n",
       "      <th>full_link</th>\n",
       "      <th>num_comments</th>\n",
       "      <th>over_18</th>\n",
       "    </tr>\n",
       "  </thead>\n",
       "  <tbody>\n",
       "    <tr>\n",
       "      <th>0</th>\n",
       "      <td>ll1p9h</td>\n",
       "      <td>Wordcloud of trending video titles on YouTube ...</td>\n",
       "      <td>1</td>\n",
       "      <td>OmarZiada</td>\n",
       "      <td>OC: 1</td>\n",
       "      <td>NaN</td>\n",
       "      <td>0.0</td>\n",
       "      <td>[]</td>\n",
       "      <td>1613473961</td>\n",
       "      <td>https://www.reddit.com/r/dataisbeautiful/comme...</td>\n",
       "      <td>0</td>\n",
       "      <td>False</td>\n",
       "    </tr>\n",
       "    <tr>\n",
       "      <th>1</th>\n",
       "      <td>ll1o4h</td>\n",
       "      <td>Wordcloud of trending videos on YouTube in the...</td>\n",
       "      <td>1</td>\n",
       "      <td>OmarZiada</td>\n",
       "      <td>OC: 1</td>\n",
       "      <td>moderator</td>\n",
       "      <td>0.0</td>\n",
       "      <td>[]</td>\n",
       "      <td>1613473829</td>\n",
       "      <td>https://www.reddit.com/r/dataisbeautiful/comme...</td>\n",
       "      <td>1</td>\n",
       "      <td>False</td>\n",
       "    </tr>\n",
       "    <tr>\n",
       "      <th>2</th>\n",
       "      <td>ll15gx</td>\n",
       "      <td>Immunization in India. Source: https://niti.go...</td>\n",
       "      <td>1</td>\n",
       "      <td>Professional_Napper_</td>\n",
       "      <td>NaN</td>\n",
       "      <td>moderator</td>\n",
       "      <td>0.0</td>\n",
       "      <td>[]</td>\n",
       "      <td>1613471541</td>\n",
       "      <td>https://www.reddit.com/r/dataisbeautiful/comme...</td>\n",
       "      <td>1</td>\n",
       "      <td>False</td>\n",
       "    </tr>\n",
       "    <tr>\n",
       "      <th>3</th>\n",
       "      <td>ll0iup</td>\n",
       "      <td>How to quickly estimate the impact of players ...</td>\n",
       "      <td>1</td>\n",
       "      <td>Viziball</td>\n",
       "      <td>NaN</td>\n",
       "      <td>automod_filtered</td>\n",
       "      <td>0.0</td>\n",
       "      <td>[]</td>\n",
       "      <td>1613468624</td>\n",
       "      <td>https://www.reddit.com/r/dataisbeautiful/comme...</td>\n",
       "      <td>0</td>\n",
       "      <td>False</td>\n",
       "    </tr>\n",
       "    <tr>\n",
       "      <th>4</th>\n",
       "      <td>ll0g9a</td>\n",
       "      <td>How to quickly estimate the impact of players ...</td>\n",
       "      <td>1</td>\n",
       "      <td>Viziball</td>\n",
       "      <td>NaN</td>\n",
       "      <td>moderator</td>\n",
       "      <td>0.0</td>\n",
       "      <td>[]</td>\n",
       "      <td>1613468281</td>\n",
       "      <td>https://www.reddit.com/r/dataisbeautiful/comme...</td>\n",
       "      <td>2</td>\n",
       "      <td>False</td>\n",
       "    </tr>\n",
       "  </tbody>\n",
       "</table>\n",
       "</div>"
      ],
      "text/plain": [
       "       id                                              title  score  \\\n",
       "0  ll1p9h  Wordcloud of trending video titles on YouTube ...      1   \n",
       "1  ll1o4h  Wordcloud of trending videos on YouTube in the...      1   \n",
       "2  ll15gx  Immunization in India. Source: https://niti.go...      1   \n",
       "3  ll0iup  How to quickly estimate the impact of players ...      1   \n",
       "4  ll0g9a  How to quickly estimate the impact of players ...      1   \n",
       "\n",
       "                 author author_flair_text        removed_by  \\\n",
       "0             OmarZiada             OC: 1               NaN   \n",
       "1             OmarZiada             OC: 1         moderator   \n",
       "2  Professional_Napper_               NaN         moderator   \n",
       "3              Viziball               NaN  automod_filtered   \n",
       "4              Viziball               NaN         moderator   \n",
       "\n",
       "   total_awards_received awarders  created_utc  \\\n",
       "0                    0.0       []   1613473961   \n",
       "1                    0.0       []   1613473829   \n",
       "2                    0.0       []   1613471541   \n",
       "3                    0.0       []   1613468624   \n",
       "4                    0.0       []   1613468281   \n",
       "\n",
       "                                           full_link  num_comments  over_18  \n",
       "0  https://www.reddit.com/r/dataisbeautiful/comme...             0    False  \n",
       "1  https://www.reddit.com/r/dataisbeautiful/comme...             1    False  \n",
       "2  https://www.reddit.com/r/dataisbeautiful/comme...             1    False  \n",
       "3  https://www.reddit.com/r/dataisbeautiful/comme...             0    False  \n",
       "4  https://www.reddit.com/r/dataisbeautiful/comme...             2    False  "
      ]
     },
     "execution_count": 12,
     "metadata": {},
     "output_type": "execute_result"
    }
   ],
   "source": [
    "df.head()"
   ]
  },
  {
   "cell_type": "code",
   "execution_count": 28,
   "id": "d85c2624",
   "metadata": {},
   "outputs": [],
   "source": [
    "# !pip install pandasql"
   ]
  },
  {
   "cell_type": "code",
   "execution_count": 8,
   "id": "8a509a1a",
   "metadata": {},
   "outputs": [],
   "source": [
    "import pandasql as ps"
   ]
  },
  {
   "cell_type": "markdown",
   "id": "bd1829fa",
   "metadata": {},
   "source": [
    "Let's check the missing values"
   ]
  },
  {
   "cell_type": "code",
   "execution_count": 13,
   "id": "fb75a319",
   "metadata": {},
   "outputs": [
    {
     "data": {
      "text/plain": [
       "removed_by               170109\n",
       "author_flair_text        162008\n",
       "awarders                 136375\n",
       "total_awards_received    125707\n",
       "title                         1\n",
       "id                            0\n",
       "score                         0\n",
       "author                        0\n",
       "created_utc                   0\n",
       "full_link                     0\n",
       "num_comments                  0\n",
       "over_18                       0\n",
       "dtype: int64"
      ]
     },
     "execution_count": 13,
     "metadata": {},
     "output_type": "execute_result"
    }
   ],
   "source": [
    "df.isnull().sum().sort_values(ascending=False)"
   ]
  },
  {
   "cell_type": "markdown",
   "id": "f1b9619b",
   "metadata": {},
   "source": [
    "We can see that there are a lot of missing values in this dataset. However, because the data is being used for Exploratory Purposes, the missing values do not bother us much."
   ]
  },
  {
   "cell_type": "code",
   "execution_count": 14,
   "id": "0867b3a9",
   "metadata": {},
   "outputs": [],
   "source": [
    "# Basic Data Exploration"
   ]
  },
  {
   "cell_type": "code",
   "execution_count": 16,
   "id": "d697dcf9",
   "metadata": {},
   "outputs": [
    {
     "data": {
      "text/html": [
       "<div>\n",
       "<style scoped>\n",
       "    .dataframe tbody tr th:only-of-type {\n",
       "        vertical-align: middle;\n",
       "    }\n",
       "\n",
       "    .dataframe tbody tr th {\n",
       "        vertical-align: top;\n",
       "    }\n",
       "\n",
       "    .dataframe thead th {\n",
       "        text-align: right;\n",
       "    }\n",
       "</style>\n",
       "<table border=\"1\" class=\"dataframe\">\n",
       "  <thead>\n",
       "    <tr style=\"text-align: right;\">\n",
       "      <th></th>\n",
       "      <th>score</th>\n",
       "      <th>total_awards_received</th>\n",
       "      <th>created_utc</th>\n",
       "      <th>num_comments</th>\n",
       "    </tr>\n",
       "  </thead>\n",
       "  <tbody>\n",
       "    <tr>\n",
       "      <th>count</th>\n",
       "      <td>190853.000000</td>\n",
       "      <td>65146.000000</td>\n",
       "      <td>1.908530e+05</td>\n",
       "      <td>190853.000000</td>\n",
       "    </tr>\n",
       "    <tr>\n",
       "      <th>mean</th>\n",
       "      <td>176.016159</td>\n",
       "      <td>0.013109</td>\n",
       "      <td>1.512494e+09</td>\n",
       "      <td>27.604732</td>\n",
       "    </tr>\n",
       "    <tr>\n",
       "      <th>std</th>\n",
       "      <td>1951.936524</td>\n",
       "      <td>0.589425</td>\n",
       "      <td>6.822624e+07</td>\n",
       "      <td>213.236378</td>\n",
       "    </tr>\n",
       "    <tr>\n",
       "      <th>min</th>\n",
       "      <td>0.000000</td>\n",
       "      <td>0.000000</td>\n",
       "      <td>1.329263e+09</td>\n",
       "      <td>0.000000</td>\n",
       "    </tr>\n",
       "    <tr>\n",
       "      <th>25%</th>\n",
       "      <td>1.000000</td>\n",
       "      <td>0.000000</td>\n",
       "      <td>1.463862e+09</td>\n",
       "      <td>1.000000</td>\n",
       "    </tr>\n",
       "    <tr>\n",
       "      <th>50%</th>\n",
       "      <td>1.000000</td>\n",
       "      <td>0.000000</td>\n",
       "      <td>1.518662e+09</td>\n",
       "      <td>2.000000</td>\n",
       "    </tr>\n",
       "    <tr>\n",
       "      <th>75%</th>\n",
       "      <td>4.000000</td>\n",
       "      <td>0.000000</td>\n",
       "      <td>1.576576e+09</td>\n",
       "      <td>5.000000</td>\n",
       "    </tr>\n",
       "    <tr>\n",
       "      <th>max</th>\n",
       "      <td>116226.000000</td>\n",
       "      <td>93.000000</td>\n",
       "      <td>1.613474e+09</td>\n",
       "      <td>18801.000000</td>\n",
       "    </tr>\n",
       "  </tbody>\n",
       "</table>\n",
       "</div>"
      ],
      "text/plain": [
       "               score  total_awards_received   created_utc   num_comments\n",
       "count  190853.000000           65146.000000  1.908530e+05  190853.000000\n",
       "mean      176.016159               0.013109  1.512494e+09      27.604732\n",
       "std      1951.936524               0.589425  6.822624e+07     213.236378\n",
       "min         0.000000               0.000000  1.329263e+09       0.000000\n",
       "25%         1.000000               0.000000  1.463862e+09       1.000000\n",
       "50%         1.000000               0.000000  1.518662e+09       2.000000\n",
       "75%         4.000000               0.000000  1.576576e+09       5.000000\n",
       "max    116226.000000              93.000000  1.613474e+09   18801.000000"
      ]
     },
     "execution_count": 16,
     "metadata": {},
     "output_type": "execute_result"
    }
   ],
   "source": [
    "df.describe()"
   ]
  },
  {
   "cell_type": "markdown",
   "id": "da730985",
   "metadata": {},
   "source": [
    "Based on the information provided, we can conclude that the \"score\" variable is heavily skewed towards the lower values, based on the quartile distribution.\n",
    "\n",
    "This suggests that the majority of the data points have very low scores, with only a small number of data points having high scores. The presence of outliers with a very high score may also suggest that there are some extreme values that are skewing the distribution."
   ]
  },
  {
   "cell_type": "code",
   "execution_count": 17,
   "id": "6b090977",
   "metadata": {},
   "outputs": [],
   "source": [
    "# *Checking who removed the most Posts*"
   ]
  },
  {
   "cell_type": "code",
   "execution_count": 18,
   "id": "cdb6e02f",
   "metadata": {},
   "outputs": [
    {
     "data": {
      "text/html": [
       "<div>\n",
       "<style scoped>\n",
       "    .dataframe tbody tr th:only-of-type {\n",
       "        vertical-align: middle;\n",
       "    }\n",
       "\n",
       "    .dataframe tbody tr th {\n",
       "        vertical-align: top;\n",
       "    }\n",
       "\n",
       "    .dataframe thead th {\n",
       "        text-align: right;\n",
       "    }\n",
       "</style>\n",
       "<table border=\"1\" class=\"dataframe\">\n",
       "  <thead>\n",
       "    <tr style=\"text-align: right;\">\n",
       "      <th></th>\n",
       "      <th>removed_by</th>\n",
       "      <th>posts_removed</th>\n",
       "    </tr>\n",
       "  </thead>\n",
       "  <tbody>\n",
       "    <tr>\n",
       "      <th>0</th>\n",
       "      <td>author</td>\n",
       "      <td>1</td>\n",
       "    </tr>\n",
       "    <tr>\n",
       "      <th>1</th>\n",
       "      <td>automod_filtered</td>\n",
       "      <td>1553</td>\n",
       "    </tr>\n",
       "    <tr>\n",
       "      <th>2</th>\n",
       "      <td>deleted</td>\n",
       "      <td>2948</td>\n",
       "    </tr>\n",
       "    <tr>\n",
       "      <th>3</th>\n",
       "      <td>moderator</td>\n",
       "      <td>14789</td>\n",
       "    </tr>\n",
       "    <tr>\n",
       "      <th>4</th>\n",
       "      <td>reddit</td>\n",
       "      <td>1453</td>\n",
       "    </tr>\n",
       "  </tbody>\n",
       "</table>\n",
       "</div>"
      ],
      "text/plain": [
       "         removed_by  posts_removed\n",
       "0            author              1\n",
       "1  automod_filtered           1553\n",
       "2           deleted           2948\n",
       "3         moderator          14789\n",
       "4            reddit           1453"
      ]
     },
     "execution_count": 18,
     "metadata": {},
     "output_type": "execute_result"
    }
   ],
   "source": [
    "removed_posts = \"\"\"SELECT removed_by, count(distinct id) as posts_removed \n",
    "                    FROM df\n",
    "                    WHERE removed_by is not null\n",
    "                    GROUP BY removed_by\"\"\"\n",
    "df_removed_posts = ps.sqldf(removed_posts, locals())\n",
    "df_removed_posts"
   ]
  },
  {
   "cell_type": "markdown",
   "id": "79325d1a",
   "metadata": {},
   "source": [
    "Making a bar graph for the table above"
   ]
  },
  {
   "cell_type": "code",
   "execution_count": 20,
   "id": "a2fa2796",
   "metadata": {},
   "outputs": [
    {
     "data": {
      "image/png": "[encoded data removed]",
      "text/plain": [
       "<Figure size 800x800 with 1 Axes>"
      ]
     },
     "metadata": {},
     "output_type": "display_data"
    }
   ],
   "source": [
    "removed_by = df_removed_posts['removed_by'].tolist()\n",
    "number_of_removed_posts = df_removed_posts['posts_removed'].tolist()\n",
    "\n",
    "# Create pie chart\n",
    "fig, ax = plt.subplots(figsize=(8, 8))\n",
    "ax.pie(number_of_removed_posts, labels=removed_by, autopct='%1.1f%%', startangle=90,\n",
    "       counterclock=False, wedgeprops=dict(width=0.4, edgecolor='w'))\n",
    "\n",
    "# Add title and legend\n",
    "ax.set_title('Post Removal', fontsize=20)\n",
    "ax.legend(title='User', loc='center', bbox_to_anchor=(0.5, -0.1), fontsize=12)\n",
    "plt.show()"
   ]
  },
  {
   "cell_type": "markdown",
   "id": "d0935455",
   "metadata": {},
   "source": [
    "We can see that most posts are removed by the moderator, showing that Reddit Moderators, who are generally unpaid, are actively enforcing subreddit rules to regulate their subreddit. The next question is, whose posts were removed most frequently?"
   ]
  },
  {
   "cell_type": "code",
   "execution_count": 21,
   "id": "364fe4f7",
   "metadata": {},
   "outputs": [
    {
     "data": {
      "text/html": [
       "<div>\n",
       "<style scoped>\n",
       "    .dataframe tbody tr th:only-of-type {\n",
       "        vertical-align: middle;\n",
       "    }\n",
       "\n",
       "    .dataframe tbody tr th {\n",
       "        vertical-align: top;\n",
       "    }\n",
       "\n",
       "    .dataframe thead th {\n",
       "        text-align: right;\n",
       "    }\n",
       "</style>\n",
       "<table border=\"1\" class=\"dataframe\">\n",
       "  <thead>\n",
       "    <tr style=\"text-align: right;\">\n",
       "      <th></th>\n",
       "      <th>author</th>\n",
       "      <th>number_of_removed_posts</th>\n",
       "    </tr>\n",
       "  </thead>\n",
       "  <tbody>\n",
       "    <tr>\n",
       "      <th>0</th>\n",
       "      <td>[deleted]</td>\n",
       "      <td>2955</td>\n",
       "    </tr>\n",
       "    <tr>\n",
       "      <th>1</th>\n",
       "      <td>hornedviper9</td>\n",
       "      <td>235</td>\n",
       "    </tr>\n",
       "    <tr>\n",
       "      <th>2</th>\n",
       "      <td>RohanBAbu150</td>\n",
       "      <td>62</td>\n",
       "    </tr>\n",
       "    <tr>\n",
       "      <th>3</th>\n",
       "      <td>Mostafa_Dahroug</td>\n",
       "      <td>45</td>\n",
       "    </tr>\n",
       "    <tr>\n",
       "      <th>4</th>\n",
       "      <td>peter_mladenov</td>\n",
       "      <td>35</td>\n",
       "    </tr>\n",
       "    <tr>\n",
       "      <th>5</th>\n",
       "      <td>PerfctSmile</td>\n",
       "      <td>31</td>\n",
       "    </tr>\n",
       "    <tr>\n",
       "      <th>6</th>\n",
       "      <td>Lifeinsider123</td>\n",
       "      <td>28</td>\n",
       "    </tr>\n",
       "    <tr>\n",
       "      <th>7</th>\n",
       "      <td>licensecrack</td>\n",
       "      <td>26</td>\n",
       "    </tr>\n",
       "    <tr>\n",
       "      <th>8</th>\n",
       "      <td>elizabeth010258</td>\n",
       "      <td>24</td>\n",
       "    </tr>\n",
       "    <tr>\n",
       "      <th>9</th>\n",
       "      <td>Lisa580</td>\n",
       "      <td>22</td>\n",
       "    </tr>\n",
       "  </tbody>\n",
       "</table>\n",
       "</div>"
      ],
      "text/plain": [
       "            author  number_of_removed_posts\n",
       "0        [deleted]                     2955\n",
       "1     hornedviper9                      235\n",
       "2     RohanBAbu150                       62\n",
       "3  Mostafa_Dahroug                       45\n",
       "4   peter_mladenov                       35\n",
       "5      PerfctSmile                       31\n",
       "6   Lifeinsider123                       28\n",
       "7     licensecrack                       26\n",
       "8  elizabeth010258                       24\n",
       "9          Lisa580                       22"
      ]
     },
     "execution_count": 21,
     "metadata": {},
     "output_type": "execute_result"
    }
   ],
   "source": [
    "top_removed = \"\"\"SELECT author, count(id) as number_of_removed_posts\n",
    "FROM df  \n",
    "WHERE removed_by is not null\n",
    "GROUP BY author \n",
    "ORDER BY 2 desc \n",
    "limit 10\"\"\"\n",
    "df_top_removed = ps.sqldf(top_removed, locals())\n",
    "df_top_removed"
   ]
  },
  {
   "cell_type": "markdown",
   "id": "9ef6c168",
   "metadata": {},
   "source": [
    "We can safely omit the first row, as the database categorises \"deleted\" as an author when it cannot directly attribute a post to an individual."
   ]
  },
  {
   "cell_type": "code",
   "execution_count": 22,
   "id": "73cb3a1f",
   "metadata": {},
   "outputs": [],
   "source": [
    "df_top_removed = df_top_removed.drop([0])"
   ]
  },
  {
   "cell_type": "code",
   "execution_count": 23,
   "id": "4ec91e2c",
   "metadata": {},
   "outputs": [
    {
     "data": {
      "text/html": [
       "<div>\n",
       "<style scoped>\n",
       "    .dataframe tbody tr th:only-of-type {\n",
       "        vertical-align: middle;\n",
       "    }\n",
       "\n",
       "    .dataframe tbody tr th {\n",
       "        vertical-align: top;\n",
       "    }\n",
       "\n",
       "    .dataframe thead th {\n",
       "        text-align: right;\n",
       "    }\n",
       "</style>\n",
       "<table border=\"1\" class=\"dataframe\">\n",
       "  <thead>\n",
       "    <tr style=\"text-align: right;\">\n",
       "      <th></th>\n",
       "      <th>author</th>\n",
       "      <th>number_of_removed_posts</th>\n",
       "    </tr>\n",
       "  </thead>\n",
       "  <tbody>\n",
       "    <tr>\n",
       "      <th>1</th>\n",
       "      <td>hornedviper9</td>\n",
       "      <td>235</td>\n",
       "    </tr>\n",
       "    <tr>\n",
       "      <th>2</th>\n",
       "      <td>RohanBAbu150</td>\n",
       "      <td>62</td>\n",
       "    </tr>\n",
       "    <tr>\n",
       "      <th>3</th>\n",
       "      <td>Mostafa_Dahroug</td>\n",
       "      <td>45</td>\n",
       "    </tr>\n",
       "    <tr>\n",
       "      <th>4</th>\n",
       "      <td>peter_mladenov</td>\n",
       "      <td>35</td>\n",
       "    </tr>\n",
       "    <tr>\n",
       "      <th>5</th>\n",
       "      <td>PerfctSmile</td>\n",
       "      <td>31</td>\n",
       "    </tr>\n",
       "    <tr>\n",
       "      <th>6</th>\n",
       "      <td>Lifeinsider123</td>\n",
       "      <td>28</td>\n",
       "    </tr>\n",
       "    <tr>\n",
       "      <th>7</th>\n",
       "      <td>licensecrack</td>\n",
       "      <td>26</td>\n",
       "    </tr>\n",
       "    <tr>\n",
       "      <th>8</th>\n",
       "      <td>elizabeth010258</td>\n",
       "      <td>24</td>\n",
       "    </tr>\n",
       "    <tr>\n",
       "      <th>9</th>\n",
       "      <td>Lisa580</td>\n",
       "      <td>22</td>\n",
       "    </tr>\n",
       "  </tbody>\n",
       "</table>\n",
       "</div>"
      ],
      "text/plain": [
       "            author  number_of_removed_posts\n",
       "1     hornedviper9                      235\n",
       "2     RohanBAbu150                       62\n",
       "3  Mostafa_Dahroug                       45\n",
       "4   peter_mladenov                       35\n",
       "5      PerfctSmile                       31\n",
       "6   Lifeinsider123                       28\n",
       "7     licensecrack                       26\n",
       "8  elizabeth010258                       24\n",
       "9          Lisa580                       22"
      ]
     },
     "execution_count": 23,
     "metadata": {},
     "output_type": "execute_result"
    }
   ],
   "source": [
    "df_top_removed"
   ]
  },
  {
   "cell_type": "markdown",
   "id": "3d97b588",
   "metadata": {},
   "source": [
    "Now, lets see the most popular posts, by total_awards_received"
   ]
  },
  {
   "cell_type": "code",
   "execution_count": 25,
   "id": "6fad0b23",
   "metadata": {},
   "outputs": [
    {
     "data": {
      "text/html": [
       "<div>\n",
       "<style scoped>\n",
       "    .dataframe tbody tr th:only-of-type {\n",
       "        vertical-align: middle;\n",
       "    }\n",
       "\n",
       "    .dataframe tbody tr th {\n",
       "        vertical-align: top;\n",
       "    }\n",
       "\n",
       "    .dataframe thead th {\n",
       "        text-align: right;\n",
       "    }\n",
       "</style>\n",
       "<table border=\"1\" class=\"dataframe\">\n",
       "  <thead>\n",
       "    <tr style=\"text-align: right;\">\n",
       "      <th></th>\n",
       "      <th>title</th>\n",
       "      <th>awards_received</th>\n",
       "    </tr>\n",
       "  </thead>\n",
       "  <tbody>\n",
       "    <tr>\n",
       "      <th>0</th>\n",
       "      <td>Robinhood is getting wrecked in the App Store ...</td>\n",
       "      <td>93.0</td>\n",
       "    </tr>\n",
       "    <tr>\n",
       "      <th>1</th>\n",
       "      <td>How many leaders the Queen saw coming and goin...</td>\n",
       "      <td>55.0</td>\n",
       "    </tr>\n",
       "    <tr>\n",
       "      <th>2</th>\n",
       "      <td>Citadel paid $88 million to Robinhood in Q3 20...</td>\n",
       "      <td>54.0</td>\n",
       "    </tr>\n",
       "    <tr>\n",
       "      <th>3</th>\n",
       "      <td>[OC] Vegetation of Africa 2019</td>\n",
       "      <td>38.0</td>\n",
       "    </tr>\n",
       "    <tr>\n",
       "      <th>4</th>\n",
       "      <td>Number of Wilhelm Screams per Lord of the Ring...</td>\n",
       "      <td>31.0</td>\n",
       "    </tr>\n",
       "    <tr>\n",
       "      <th>5</th>\n",
       "      <td>[OC] Most Popular Programming Languages accord...</td>\n",
       "      <td>30.0</td>\n",
       "    </tr>\n",
       "    <tr>\n",
       "      <th>6</th>\n",
       "      <td>Race and Hispanic origin by county [OC]</td>\n",
       "      <td>27.0</td>\n",
       "    </tr>\n",
       "    <tr>\n",
       "      <th>7</th>\n",
       "      <td>[OC] Fails-To-Deliver data on GameStop (GME)</td>\n",
       "      <td>24.0</td>\n",
       "    </tr>\n",
       "    <tr>\n",
       "      <th>8</th>\n",
       "      <td>Highest Grossing Box Office Bald Actors of Hol...</td>\n",
       "      <td>21.0</td>\n",
       "    </tr>\n",
       "    <tr>\n",
       "      <th>9</th>\n",
       "      <td>The best (&amp;amp; worst) countries for raising a...</td>\n",
       "      <td>18.0</td>\n",
       "    </tr>\n",
       "  </tbody>\n",
       "</table>\n",
       "</div>"
      ],
      "text/plain": [
       "                                               title  awards_received\n",
       "0  Robinhood is getting wrecked in the App Store ...             93.0\n",
       "1  How many leaders the Queen saw coming and goin...             55.0\n",
       "2  Citadel paid $88 million to Robinhood in Q3 20...             54.0\n",
       "3                     [OC] Vegetation of Africa 2019             38.0\n",
       "4  Number of Wilhelm Screams per Lord of the Ring...             31.0\n",
       "5  [OC] Most Popular Programming Languages accord...             30.0\n",
       "6            Race and Hispanic origin by county [OC]             27.0\n",
       "7       [OC] Fails-To-Deliver data on GameStop (GME)             24.0\n",
       "8  Highest Grossing Box Office Bald Actors of Hol...             21.0\n",
       "9  The best (&amp; worst) countries for raising a...             18.0"
      ]
     },
     "execution_count": 25,
     "metadata": {},
     "output_type": "execute_result"
    }
   ],
   "source": [
    "popular_posts = \"\"\"SELECT title, total_awards_received as awards_received \n",
    "FROM df  \n",
    "where title != 'data_irl'\n",
    "order by 2 desc \n",
    "limit 10\"\"\"\n",
    "df_popular_posts = ps.sqldf(popular_posts, locals())\n",
    "df_popular_posts"
   ]
  },
  {
   "cell_type": "markdown",
   "id": "038199b1",
   "metadata": {},
   "source": [
    "# Comments Distribution\n",
    "As seen in our quick statistics, an average reddit post has 28 comments. Lets see how the comments are distributed using a bar chart"
   ]
  },
  {
   "cell_type": "code",
   "execution_count": 33,
   "id": "f12f4f60",
   "metadata": {},
   "outputs": [],
   "source": [
    "import warnings\n",
    "warnings.filterwarnings('ignore', category=FutureWarning)"
   ]
  },
  {
   "cell_type": "code",
   "execution_count": 34,
   "id": "77d3fab9",
   "metadata": {},
   "outputs": [
    {
     "data": {
      "image/png": "[encoded data removed]",
      "text/plain": [
       "<Figure size 640x480 with 1 Axes>"
      ]
     },
     "metadata": {},
     "output_type": "display_data"
    }
   ],
   "source": [
    "subset = df[df['num_comments'] < 28]\n",
    "sns.histplot(data=subset, x='num_comments', binwidth=1)\n",
    "\n",
    "# set the plot title and axis labels\n",
    "plt.title('Number of Comments per Post')\n",
    "plt.xlabel('Number of Comments')\n",
    "plt.ylabel('Frequency')\n",
    "\n",
    "# display the plot\n",
    "plt.show()"
   ]
  },
  {
   "cell_type": "markdown",
   "id": "0f5e3d00",
   "metadata": {},
   "source": [
    "As we can see, most posts still have less than 5 comments per post. From this, we can conclude that there are posts with an extremely high number of post which takes the mean to a very high value."
   ]
  },
  {
   "cell_type": "markdown",
   "id": "ab824e05",
   "metadata": {},
   "source": [
    "# CONCLUSION\n",
    "As we can see from the beginning, the dataset has a lot of outliers. The data, although heavily skewed, is consistent with what we should expect from a social media dataset, as there are very few posts with a lot of likes/awards or comments, while others garner very few peoples eye."
   ]
  }
 ],
 "metadata": {
  "kernelspec": {
   "display_name": "Python 3 (ipykernel)",
   "language": "python",
   "name": "python3"
  },
  "language_info": {
   "codemirror_mode": {
    "name": "ipython",
    "version": 3
   },
   "file_extension": ".py",
   "mimetype": "text/x-python",
   "name": "python",
   "nbconvert_exporter": "python",
   "pygments_lexer": "ipython3",
   "version": "3.11.7"
  }
 },
 "nbformat": 4,
 "nbformat_minor": 5
}
